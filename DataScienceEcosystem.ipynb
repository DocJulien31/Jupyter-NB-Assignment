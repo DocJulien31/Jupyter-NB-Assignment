{
 "cells": [
  {
   "cell_type": "markdown",
   "id": "8e1108e9-af45-489d-bfb7-399e9c0f50d1",
   "metadata": {},
   "source": [
    "# Data Science Tools and Ecosystem"
   ]
  },
  {
   "cell_type": "markdown",
   "id": "42d28a27-6c2f-403d-ad25-fd36afb13dd3",
   "metadata": {},
   "source": [
    "In this notebook, Data Science Tools and Ecosystem are summarized."
   ]
  },
  {
   "cell_type": "markdown",
   "id": "717b0a6c-7d5a-4daa-ad99-9d3ba6ff3f8e",
   "metadata": {},
   "source": [
    "**Objectives:**\n",
    "- List popular languages for Data Science\n",
    "- List commonly used libraries\n",
    "- List Data Sciences tools"
   ]
  },
  {
   "cell_type": "markdown",
   "id": "2cf648c8-3461-485d-8e77-5c971677729b",
   "metadata": {},
   "source": [
    "Some of the popular languages that Data Scientists use are:\n",
    "1. Python\n",
    "2. R\n",
    "3. Julia"
   ]
  },
  {
   "cell_type": "markdown",
   "id": "8cf969fb-d5ff-45cf-ae9d-749f89cee173",
   "metadata": {},
   "source": [
    "Some of the commonly used libraries used by Data Scientists include:\n",
    "1. Pandas\n",
    "2. Numpy\n",
    "3. Matplotlib\n",
    "4. Seaborn"
   ]
  },
  {
   "cell_type": "markdown",
   "id": "88ca5a22-20b2-40fe-98e4-f291b47354bb",
   "metadata": {},
   "source": [
    "|Data Science Tools|\n",
    "|---|\n",
    "|Rstudio|\n",
    "|Jupyter|\n",
    "|VisualStudio|"
   ]
  },
  {
   "cell_type": "markdown",
   "id": "d78e89b8-57c3-440a-8009-91fee510a5de",
   "metadata": {},
   "source": [
    "### Below are a few examples of evaluating arithmetic expressions in Python"
   ]
  },
  {
   "cell_type": "code",
   "execution_count": 1,
   "id": "34be7db3-b4aa-4b07-ae56-eb691694a59c",
   "metadata": {},
   "outputs": [
    {
     "data": {
      "text/plain": [
       "17"
      ]
     },
     "execution_count": 1,
     "metadata": {},
     "output_type": "execute_result"
    }
   ],
   "source": [
    "#This a simple arithmetic expression to mutiply then add integers\n",
    "(3*4)+5"
   ]
  },
  {
   "cell_type": "code",
   "execution_count": 2,
   "id": "3e50a1ff-f854-4217-8771-50ab0405a34a",
   "metadata": {},
   "outputs": [
    {
     "data": {
      "text/plain": [
       "3.3333333333333335"
      ]
     },
     "execution_count": 2,
     "metadata": {},
     "output_type": "execute_result"
    }
   ],
   "source": [
    "#This will convert 200 minutes to hours by diving by 60\n",
    "200/60"
   ]
  },
  {
   "cell_type": "markdown",
   "id": "9851957e-3377-44a4-8b1e-a9b126675afb",
   "metadata": {
    "tags": []
   },
   "source": [
    "## Author\n",
    "Julien Dimastromatteo"
   ]
  },
  {
   "cell_type": "code",
   "execution_count": null,
   "id": "9d64eadb-064f-4754-be9a-7f713a47041a",
   "metadata": {},
   "outputs": [],
   "source": []
  }
 ],
 "metadata": {
  "kernelspec": {
   "display_name": "Python 3 (ipykernel)",
   "language": "python",
   "name": "python3"
  },
  "language_info": {
   "codemirror_mode": {
    "name": "ipython",
    "version": 3
   },
   "file_extension": ".py",
   "mimetype": "text/x-python",
   "name": "python",
   "nbconvert_exporter": "python",
   "pygments_lexer": "ipython3",
   "version": "3.9.12"
  }
 },
 "nbformat": 4,
 "nbformat_minor": 5
}
